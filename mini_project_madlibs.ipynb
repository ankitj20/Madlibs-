{
 "cells": [
  {
   "cell_type": "code",
   "execution_count": 2,
   "id": "e2aea624",
   "metadata": {
    "ExecuteTime": {
     "end_time": "2023-06-17T13:38:03.301432Z",
     "start_time": "2023-06-17T13:38:03.281945Z"
    }
   },
   "outputs": [],
   "source": [
    "def madlibs_story():\n",
    "    print(\"Enter which madlib story you want to play\")\n",
    "    print(\"Press 1 for Zoo story\")\n",
    "    print(\"Press 2 for Amusement Park story\")\n",
    "    print(\"Press 3 for Arcade story\")\n",
    "    print(\"\\n\")\n",
    "    n = input(\"Enter your Choice:\")\n",
    "    \n",
    "    if n == \"1\":\n",
    "        adjective = input(\"Enter adjective: \")\n",
    "        noun = input(\"Enter noun: \")\n",
    "        verb = input(\"Enter a verb: \")\n",
    "        verb_past = input(\"Enter the verb in past tense: \")\n",
    "        adverb = input(\"Enter adverb: \")\n",
    "\n",
    "        print(f\"Today I went to the zoo. I saw {adjective} {noun} jumping up and down in its tree. He {verb_past} {adverb} through the large tunnel that led to its {adjective} {noun}. I got some peanuts and passed them through the cage to a gigantic gray {noun} towering above my head. Feeding that animal made me hungry. I went to get a {adjective} scoop  of ice cream. It filled my stomach. Afterwards I had to {verb} {adverb} to catch our bus.  When I got home I {verb_past} my  mom for a {adjective} day at the zoo.\")\n",
    "        \n",
    "    if n == \"2\":\n",
    "        adjective = input(\"Enter adjective: \")\n",
    "        noun = input(\"Enter noun: \")\n",
    "        noun_plural = input(\"Enter plural noun: \")\n",
    "        number = input(\"Enter number: \")\n",
    "        verb = input(\"Enter a verb: \")\n",
    "        verb_past = input(\"Enter the verb in past tense: \")\n",
    "        adverb = input(\"Enter adverb: \")\n",
    "        adjective_est = input(\"Enter a adjective with est: \")\n",
    "\n",
    "        print(f\"Today, my fabulous camp group went to {adjective} amusement park. It was a fun park with lots of cool {noun_plural} and enjoyable play structures. When we got there, my counselor handed out yellow tickets, and we scurried in. I was so excited! I could not figure out what exciting thing to do first. I saw a scary roller coaster I really liked so, I {adverb} ran over to get in the long line that had about {number} people in it. When I finally got on the roller coaster I was {verb_past}.In fact I was so nervous my two knees were knocking together. This was the {adjective_est} ride I had ever been on! In about two minutes I heard the crank and grinding of the gears. That’s when the ride began! When I got to the bottom, I was a little {verb_past} but I was proud of myself. The rest of the day went {adverb}. It was {adjective} day at the fun park.\")\n",
    "        \n",
    "    if n == \"3\":\n",
    "        adjective = input(\"Enter adjective: \")\n",
    "        noun = input(\"Enter noun: \")\n",
    "        noun_plural = input(\"Enter plural noun: \")\n",
    "        number = input(\"Enter number: \")\n",
    "        verb = input(\"Enter a verb: \")\n",
    "        verb_ing = input(\"Enter a verb with ing: \")\n",
    "        verb_past = input(\"Enter the verb in past tense: \")\n",
    "        adverb = input(\"Enter adverb: \")\n",
    "        adjective_est = input(\"Enter a adjective with est: \")\n",
    "\n",
    "        print(f\"When I go to the arcade with my {noun_plural} there are lots of games to play.I spend lots of time there with my friends. In the game X-Men you can be different {noun_plural}. The point of the game is to {verb} every robot.You also need to save people. Then you can go to the next level.  In the game Star Wars you are Luke Skywalker and you try to destroy every {noun}. In a car racing/motorcycle racing game you need to beat every computerized vehicle that you are {verb_ing} against.  There are a whole lot of other cool games.When you play some games you win {noun_plural} for certain scores. Once you are done you can cash in your tickets to get a big {noun}. You can save your {noun_plural} for another time. When I went to this arcade I did not believe how much fun it would be. So far I have had a lot of fun every time I have been to this great arcade!\")\n",
    "    \n",
    "    print(\"Do you want to play again. Press y for yes. Press any key to exit\")\n",
    "    i = input(\"Enter your choice: \")\n",
    "    if i == \"y\":\n",
    "        madlibs_story()\n",
    "    else:\n",
    "        quit()"
   ]
  },
  {
   "cell_type": "code",
   "execution_count": 3,
   "id": "47833414",
   "metadata": {
    "ExecuteTime": {
     "end_time": "2023-06-17T13:38:13.852099Z",
     "start_time": "2023-06-17T13:38:05.333922Z"
    }
   },
   "outputs": [
    {
     "name": "stdout",
     "output_type": "stream",
     "text": [
      "Enter which madlib story you want to play\n",
      "Press 1 for Zoo story\n",
      "Press 2 for Amusement Park story\n",
      "Press 3 for Arcade story\n",
      "Press 4 for exit\n",
      "\n",
      "\n",
      "Enter your Choice:4\n",
      "Do you want to play again. Press y for yes. Press any key to exit\n",
      "Enter your choice: 4\n"
     ]
    }
   ],
   "source": [
    "madlibs_story()"
   ]
  },
  {
   "cell_type": "code",
   "execution_count": null,
   "id": "673867d5",
   "metadata": {},
   "outputs": [],
   "source": []
  }
 ],
 "metadata": {
  "kernelspec": {
   "display_name": "Python 3 (ipykernel)",
   "language": "python",
   "name": "python3"
  },
  "language_info": {
   "codemirror_mode": {
    "name": "ipython",
    "version": 3
   },
   "file_extension": ".py",
   "mimetype": "text/x-python",
   "name": "python",
   "nbconvert_exporter": "python",
   "pygments_lexer": "ipython3",
   "version": "3.9.12"
  }
 },
 "nbformat": 4,
 "nbformat_minor": 5
}
